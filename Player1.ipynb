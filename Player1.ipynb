{
 "cells": [
  {
   "cell_type": "code",
   "execution_count": 9,
   "metadata": {},
   "outputs": [
    {
     "name": "stdout",
     "output_type": "stream",
     "text": [
      "You are player : 9539\n",
      "Waiting for other players to join\n",
      "Starting the game..\n",
      "{\"Player 1 \":\"9539\",\"Player 2 \":\"9539\",\"Player 3 \":\"3385\",\"Player 4 \":\"6040\"}\n",
      "14.0\n",
      "Getting Observations...\n",
      "b'{\"total\":14,\"dealerHand\":10,\"usable\":false,\"opponent1 total\":16,\"opponent1 useable\":false,\"opponent2 total\":19,\"opponent2 useable\":true}'\n"
     ]
    },
    {
     "ename": "KeyError",
     "evalue": "'opponent3 total'",
     "output_type": "error",
     "traceback": [
      "\u001b[1;31m---------------------------------------------------------------------------\u001b[0m",
      "\u001b[1;31mKeyError\u001b[0m                                  Traceback (most recent call last)",
      "\u001b[1;32m<ipython-input-9-678161f86eb6>\u001b[0m in \u001b[0;36m<module>\u001b[1;34m()\u001b[0m\n\u001b[0;32m     39\u001b[0m     \u001b[0mop2\u001b[0m\u001b[1;33m=\u001b[0m\u001b[0mrep\u001b[0m\u001b[1;33m[\u001b[0m\u001b[1;34m'opponent2 total'\u001b[0m\u001b[1;33m]\u001b[0m\u001b[1;33m\u001b[0m\u001b[0m\n\u001b[0;32m     40\u001b[0m     \u001b[0mop2u\u001b[0m\u001b[1;33m=\u001b[0m\u001b[0mrep\u001b[0m\u001b[1;33m[\u001b[0m\u001b[1;34m'opponent2 useable'\u001b[0m\u001b[1;33m]\u001b[0m\u001b[1;33m\u001b[0m\u001b[0m\n\u001b[1;32m---> 41\u001b[1;33m     \u001b[0mop3\u001b[0m\u001b[1;33m=\u001b[0m\u001b[0mrep\u001b[0m\u001b[1;33m[\u001b[0m\u001b[1;34m'opponent3 total'\u001b[0m\u001b[1;33m]\u001b[0m\u001b[1;33m\u001b[0m\u001b[0m\n\u001b[0m\u001b[0;32m     42\u001b[0m     \u001b[0mop3u\u001b[0m\u001b[1;33m=\u001b[0m\u001b[0mrep\u001b[0m\u001b[1;33m[\u001b[0m\u001b[1;34m'opponent3 useable'\u001b[0m\u001b[1;33m]\u001b[0m\u001b[1;33m\u001b[0m\u001b[0m\n\u001b[0;32m     43\u001b[0m     \u001b[0mprint\u001b[0m\u001b[1;33m(\u001b[0m\u001b[0mtotal\u001b[0m\u001b[1;33m,\u001b[0m\u001b[0mdealerhand\u001b[0m\u001b[1;33m,\u001b[0m\u001b[0museable\u001b[0m\u001b[1;33m,\u001b[0m\u001b[0mop1\u001b[0m\u001b[1;33m,\u001b[0m\u001b[0mop1u\u001b[0m\u001b[1;33m,\u001b[0m\u001b[0mop2\u001b[0m\u001b[1;33m,\u001b[0m\u001b[0mop2u\u001b[0m\u001b[1;33m,\u001b[0m\u001b[0mop3\u001b[0m\u001b[1;33m,\u001b[0m\u001b[0mop3u\u001b[0m\u001b[1;33m)\u001b[0m\u001b[1;33m\u001b[0m\u001b[0m\n",
      "\u001b[1;31mKeyError\u001b[0m: 'opponent3 total'"
     ]
    }
   ],
   "source": [
    "import requests,json\n",
    "import time\n",
    "import numpy as np\n",
    "niner_number = 9539 #ENTER last four digits of you 800/801 number\n",
    "def action(action):\n",
    "    req = requests.get(\"https://agile-escarpment-74842.herokuapp.com/\"+str(action)+\"/\"+str(niner_number))\n",
    "    return req.content\n",
    "def startgame():\n",
    "    req = requests.get(\"https://agile-escarpment-74842.herokuapp.com/startGame/\"+str(niner_number))\n",
    "#     print(req.content)\n",
    "    return req.content\n",
    "a=startgame().decode(\"utf-8\")\n",
    "Q = np.load('model_final.npy')\n",
    "\n",
    "print (a)\n",
    "print (\"Waiting for other players to join\")\n",
    "\n",
    "a=float(action(\"check\").decode(\"utf-8\"))\n",
    "while(a<4):\n",
    "    time.sleep(3)\n",
    "    a=float(action(\"check\").decode(\"utf-8\"))\n",
    "print(\"Starting the game..\")\n",
    "print(action(\"getplayers\").decode(\"utf-8\"))\n",
    "while(True):\n",
    "    hitcount=float(action(\"hit\").decode(\"utf-8\"))\n",
    "    print(hitcount)\n",
    "    obsv=float(action(\"checkhits\").decode(\"utf-8\"))\n",
    "    while(obsv!=4):\n",
    "        obsv=float(action(\"checkhits\").decode(\"utf-8\"))\n",
    "    print(\"Getting Observations...\")\n",
    "    reply=action(\"getobsv\")\n",
    "    print(reply)\n",
    "    rep=json.loads(reply.decode())\n",
    "    total=rep['total']\n",
    "    dealerhand=rep['dealerHand']\n",
    "    useable=rep['usable']\n",
    "    op1=rep['opponent1 total']\n",
    "    op1u=rep['opponent1 useable']\n",
    "    op2=rep['opponent2 total']\n",
    "    op2u=rep['opponent2 useable']\n",
    "    op3=rep['opponent3 total']\n",
    "    op3u=rep['opponent3 useable']\n",
    "    print(total,dealerhand,useable,op1,op1u,op2,op2u,op3,op3u)\n",
    "    \n",
    "   \n",
    "    ########################################\n",
    "    #ONLY MAKES CHANGES HERE\n",
    "    #### I have made use of total>17 condition to decide to break out of HIT loop\n",
    "    ## you however have to make use of decisions from Qtable after using the above observation\n",
    "    ### send the above observations (total,dealerhand,useable,op1,op1u,op2,op2u,op3,op3u) to your agent\n",
    "    ## and depending on response decide to hit or break(stand). eg if decision==1: break;\n",
    "     ##########CODE_TO_HIT##########\n",
    "    if(useable):\n",
    "        useableint = 1\n",
    "    else:\n",
    "        useableint = 0\n",
    "        \n",
    "    act = np.argmax(Q[total][dealerhand][useableint])\n",
    "        \n",
    "    if act==0:\n",
    "        break\n",
    " \n",
    "    ######################################\n",
    "print(action(\"stand\").decode(\"utf-8\"))\n",
    "stander=float(action(\"checkstand\").decode(\"utf-8\"))\n",
    "while(stander!=1):\n",
    "        stander=float(action(\"checkstand\").decode(\"utf-8\"))\n",
    "print(\"Game Over. Results : \")\n",
    "print(action(\"getresult\").decode(\"utf-8\"))"
   ]
  },
  {
   "cell_type": "code",
   "execution_count": 16,
   "metadata": {},
   "outputs": [
    {
     "name": "stdout",
     "output_type": "stream",
     "text": [
      "done\n"
     ]
    }
   ],
   "source": [
    "print(action(\"reset\").decode(\"utf-8\"))"
   ]
  },
  {
   "cell_type": "code",
   "execution_count": null,
   "metadata": {
    "collapsed": true
   },
   "outputs": [],
   "source": []
  }
 ],
 "metadata": {
  "kernelspec": {
   "display_name": "Python 3",
   "language": "python",
   "name": "python3"
  }
 },
 "nbformat": 4,
 "nbformat_minor": 2
}
