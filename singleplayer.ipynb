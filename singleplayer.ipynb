{
 "cells": [
  {
   "cell_type": "code",
   "execution_count": 1,
   "metadata": {},
   "outputs": [],
   "source": [
    "import requests,json\n",
    "import numpy as np"
   ]
  },
  {
   "cell_type": "markdown",
   "metadata": {},
   "source": [
    "### Use your niner number as the unique identifier"
   ]
  },
  {
   "cell_type": "code",
   "execution_count": 2,
   "metadata": {},
   "outputs": [],
   "source": [
    "niner_number = 801029539 #ENTER last four digits of you 800/801 number"
   ]
  },
  {
   "cell_type": "markdown",
   "metadata": {},
   "source": [
    "### Start your game by using the following function"
   ]
  },
  {
   "cell_type": "code",
   "execution_count": 3,
   "metadata": {},
   "outputs": [
    {
     "data": {
      "text/plain": [
       "b'You can start the game !'"
      ]
     },
     "execution_count": 3,
     "metadata": {},
     "output_type": "execute_result"
    }
   ],
   "source": [
    "def startgame():\n",
    "    req = requests.get(\"https://agile-escarpment-74842.herokuapp.com/startGame/\"+str(niner_number))\n",
    "#     print(req.content)\n",
    "    return req.content\n",
    "startgame()"
   ]
  },
  {
   "cell_type": "markdown",
   "metadata": {},
   "source": [
    "###hit or stand or get observation"
   ]
  },
  {
   "cell_type": "code",
   "execution_count": 4,
   "metadata": {},
   "outputs": [],
   "source": [
    "def action(action):\n",
    "    req = requests.get(\"https://agile-escarpment-74842.herokuapp.com/\"+str(action)+\"/\"+str(niner_number))\n",
    "    return req.content"
   ]
  },
  {
   "cell_type": "code",
   "execution_count": 5,
   "metadata": {
    "scrolled": true
   },
   "outputs": [
    {
     "name": "stdout",
     "output_type": "stream",
     "text": [
      "14 2 False\n",
      "b'{\"total\":0,\"result\":\"Dealer Busted, you Won !\",\"dealerTotal\":22,\"Win\":true}'\n",
      "did you win ?  True\n"
     ]
    }
   ],
   "source": [
    "while(True):\n",
    "    \n",
    "    ##########CODE_TO_HIT##########\n",
    "    check=action(\"hit\").decode(\"utf-8\")\n",
    "    if \"Busted\" in check:\n",
    "        break;\n",
    "    ###############################\n",
    "    \n",
    "    \n",
    "    #############CODE_TO_GET_OBSERVATION############## \n",
    "    ##_Use the three variables to make decision to HIT or STAND\n",
    "    reply=action(\"getobsv\")\n",
    "    rep=json.loads(reply.decode())\n",
    "    total=rep['total']\n",
    "    dealerhand=rep['dealerHand']\n",
    "    useable=rep['usable']\n",
    "    print(total,dealerhand,useable)\n",
    "    ###########################\n",
    "    \n",
    "    \n",
    "            ###### WITHIN THIS LOOP IMPLEMENT LEARNING AND USE YOUR Policy/ Q TABLE TO DECIDE TO HIT OR STAND\n",
    "    Q = np.load('model_final_1.npy')\n",
    "    done=False\n",
    "        \n",
    "    while(done == False):## This condition is hardcoded.Do not do this. WRTIE your own condition to exit While loop to STAND\n",
    "                                \n",
    "            ### use total dealerhand and useable to decide next move\n",
    "            ### Just write break; if your decision is to stand    \n",
    "        \n",
    "        ##########CODE_TO_HIT##########\n",
    "        check=action(\"hit\").decode(\"utf-8\")\n",
    "        if \"Busted\" in check:\n",
    "            break;\n",
    "        if(useable):\n",
    "            useableint = 1\n",
    "        else:\n",
    "            useableint = 0\n",
    "        \n",
    "        act = np.argmax(Q[total][dealerhand][useableint])\n",
    "        \n",
    "        print(act)\n",
    "        if act==1:\n",
    "            check=action(\"hit\").decode(\"utf-8\")\n",
    "        else:\n",
    "            action(\"stand\")\n",
    "            done = True\n",
    "        ###############################\n",
    "         #############CODE_TO_GET_OBSERVATION############## \n",
    "        ##_Use the three variables to make decision to HIT or STAND\n",
    "        reply=action(\"getobsv\")\n",
    "        rep=json.loads(reply.decode())\n",
    "        total=rep['total']\n",
    "        dealerhand=rep['dealerHand']\n",
    "        useable=rep['usable']\n",
    "        print(total,dealerhand,useable)\n",
    "        ###########################\n",
    "        \n",
    "        \n",
    "   \n",
    "    #############CODE TO STAND################\n",
    "    a=action(\"stand\")\n",
    "    print(a)\n",
    "    b=json.loads(a.decode())\n",
    "    win=b['Win']\n",
    "    break;\n",
    "    ##########################################\n",
    "print (\"did you win ? \",win)\n",
    "useable=False"
   ]
  },
  {
   "cell_type": "code",
   "execution_count": null,
   "metadata": {
    "collapsed": true
   },
   "outputs": [],
   "source": []
  },
  {
   "cell_type": "code",
   "execution_count": null,
   "metadata": {
    "collapsed": true
   },
   "outputs": [],
   "source": []
  }
 ],
 "metadata": {
  "kernelspec": {
   "display_name": "Python 3",
   "language": "python",
   "name": "python3"
  },
  "language_info": {
   "codemirror_mode": {
    "name": "ipython",
    "version": 3
   },
   "file_extension": ".py",
   "mimetype": "text/x-python",
   "name": "python",
   "nbconvert_exporter": "python",
   "pygments_lexer": "ipython3",
   "version": "3.6.2"
  }
 },
 "nbformat": 4,
 "nbformat_minor": 2
}
