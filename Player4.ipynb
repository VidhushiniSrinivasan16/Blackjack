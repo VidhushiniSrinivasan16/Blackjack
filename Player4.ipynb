{
 "cells": [
  {
   "cell_type": "code",
   "execution_count": null,
   "metadata": {},
   "outputs": [
    {
     "name": "stdout",
     "output_type": "stream",
     "text": [
      "<!DOCTYPE html>\n",
      "\t<html>\n",
      "\t  <head>\n",
      "\t\t<meta name=\"viewport\" content=\"width=device-width, initial-scale=1\">\n",
      "\t\t<meta charset=\"utf-8\">\n",
      "\t\t<title>Application Error</title>\n",
      "\t\t<style media=\"screen\">\n",
      "\t\t  html,body,iframe {\n",
      "\t\t\tmargin: 0;\n",
      "\t\t\tpadding: 0;\n",
      "\t\t  }\n",
      "\t\t  html,body {\n",
      "\t\t\theight: 100%;\n",
      "\t\t\toverflow: hidden;\n",
      "\t\t  }\n",
      "\t\t  iframe {\n",
      "\t\t\twidth: 100%;\n",
      "\t\t\theight: 100%;\n",
      "\t\t\tborder: 0;\n",
      "\t\t  }\n",
      "\t\t</style>\n",
      "\t  </head>\n",
      "\t  <body>\n",
      "\t\t<iframe src=\"//www.herokucdn.com/error-pages/application-error.html\"></iframe>\n",
      "\t  </body>\n",
      "\t</html>\n",
      "Waiting for other players to join\n",
      "Starting the game..\n",
      "{\"Player 1 \":\"9539\",\"Player 2 \":\"9876\",\"Player 3 \":\"2536\",\"Player 4 \":\"7896\"}\n",
      "54.0\n"
     ]
    }
   ],
   "source": [
    "import requests,json\n",
    "import time\n",
    "niner_number = 2536 #ENTER last four digits of you 800/801 number\n",
    "def action(action):\n",
    "    req = requests.get(\"https://agile-escarpment-74842.herokuapp.com/\"+str(action)+\"/\"+str(niner_number))\n",
    "    return req.content\n",
    "def startgame():\n",
    "    req = requests.get(\"https://agile-escarpment-74842.herokuapp.com/startGame/\"+str(niner_number))\n",
    "#     print(req.content)\n",
    "    return req.content\n",
    "a=startgame().decode(\"utf-8\")\n",
    "print (a)\n",
    "print (\"Waiting for other players to join\")\n",
    "\n",
    "a=float(action(\"check\").decode(\"utf-8\"))\n",
    "while(a<4):\n",
    "    time.sleep(3)\n",
    "    a=float(action(\"check\").decode(\"utf-8\"))\n",
    "print(\"Starting the game..\")\n",
    "print(action(\"getplayers\").decode(\"utf-8\"))\n",
    "while(True):\n",
    "    hitcount=float(action(\"hit\").decode(\"utf-8\"))\n",
    "    print(hitcount)\n",
    "    obsv=float(action(\"checkhits\").decode(\"utf-8\"))\n",
    "    while(obsv!=4):\n",
    "        obsv=float(action(\"checkhits\").decode(\"utf-8\"))\n",
    "    print(\"Getting Observations...\")\n",
    "    reply=action(\"getobsv\")\n",
    "    print(reply)\n",
    "    rep=json.loads(reply.decode())\n",
    "    total=rep['total']\n",
    "    dealerhand=rep['dealerHand']\n",
    "    useable=rep['usable']\n",
    "    op1=rep['opponent1 total']\n",
    "    op1u=rep['opponent1 useable']\n",
    "    op2=rep['opponent2 total']\n",
    "    op2u=rep['opponent2 useable']\n",
    "    op3=rep['opponent3 total']\n",
    "    op3u=rep['opponent3 useable']\n",
    "    ########################################\n",
    "    if total>17:\n",
    "        break;\n",
    "    ######################################\n",
    "print(action(\"stand\").decode(\"utf-8\"))\n",
    "stander=float(action(\"checkstand\").decode(\"utf-8\"))\n",
    "while(stander!=1):\n",
    "        stander=float(action(\"checkstand\").decode(\"utf-8\"))\n",
    "print(\"Game Over. Results : \")\n",
    "print(action(\"getresult\").decode(\"utf-8\"))"
   ]
  },
  {
   "cell_type": "code",
   "execution_count": null,
   "metadata": {
    "collapsed": true
   },
   "outputs": [],
   "source": []
  }
 ],
 "metadata": {
  "kernelspec": {
   "display_name": "Python 3",
   "language": "python",
   "name": "python3"
  }
 },
 "nbformat": 4,
 "nbformat_minor": 2
}
